{
 "cells": [
  {
   "cell_type": "code",
   "execution_count": 1,
   "metadata": {},
   "outputs": [],
   "source": [
    "import pandas as pd\n",
    "import pickle\n",
    "\n",
    "tmpDats=[]\n",
    "infiles=[\"Occupation Data.txt\",]\n",
    "for infile in infiles:\n",
    "        foo=pd.read_csv(infile,'\\t')\n",
    "        tmpDats.append(foo)\n",
    "        allDat_ONET=pd.concat(tmpDats,axis=1)\n",
    "        allDat_ONET=pd.DataFrame(allDat_ONET,columns=['O*NET-SOC Code','Title', 'Description'])\n",
    "        allDat_ONET=allDat_ONET.dropna(subset=['Title', 'Description']).reset_index(drop=True)\n",
    "        allDat_ONET['Description'] = allDat_ONET['Description'].astype(str)\n",
    "        allDat_ONET['Description'] = allDat_ONET['Description'].map(str) + allDat_ONET['Title'].astype(str)\n",
    "\n",
    "    \n",
    "\n",
    "    # Tasks\n",
    "tmpDats=[]\n",
    "infiles=[\"Task Statements.txt\",]\n",
    "for infile in infiles:\n",
    "        foo=pd.read_csv(infile,'\\t')\n",
    "        tmpDats.append(foo)\n",
    "        Task_ONET=pd.concat(tmpDats,axis=1)\n",
    "        Task_ONET=pd.DataFrame(Task_ONET,columns=['O*NET-SOC Code','Task'])\n",
    "        Task_ONET=Task_ONET.dropna(subset=['O*NET-SOC Code','Task']).reset_index(drop=True)\n",
    "\n",
    "\n",
    "    \n",
    "  \n",
    "\n",
    "    "
   ]
  },
  {
   "cell_type": "code",
   "execution_count": 2,
   "metadata": {},
   "outputs": [],
   "source": [
    "for i in range(1,len(Task_ONET)):\n",
    "        temp=Task_ONET['Task'][i]\n",
    "        if Task_ONET['O*NET-SOC Code'][i]== Task_ONET['O*NET-SOC Code'][i-1]:\n",
    "            temp= Task_ONET['Task'][i-1] + ' ' + temp\n",
    "        else:\n",
    "            temp=Task_ONET['Task'][i]\n",
    "        Task_ONET['Task'][i]=temp\n"
   ]
  },
  {
   "cell_type": "code",
   "execution_count": 3,
   "metadata": {},
   "outputs": [],
   "source": [
    " y=Task_ONET.drop_duplicates(subset='O*NET-SOC Code', keep='last').reset_index(drop=True)\n",
    "allDat_ONET=pd.merge(allDat_ONET, y, left_on='O*NET-SOC Code', right_on='O*NET-SOC Code', how='outer')"
   ]
  },
  {
   "cell_type": "code",
   "execution_count": 4,
   "metadata": {},
   "outputs": [],
   "source": [
    "allDat_ONET['Task'].fillna('',inplace=True)\n",
    "allDat_ONET['Description'] = allDat_ONET['Description'].map(str)  + ' ' + allDat_ONET['Task'].astype(str)\n",
    "del allDat_ONET['Task']"
   ]
  },
  {
   "cell_type": "code",
   "execution_count": 5,
   "metadata": {},
   "outputs": [],
   "source": [
    "with open('allDat_ONET.pkl', 'wb') as handle:\n",
    "    pickle.dump(allDat_ONET, handle)"
   ]
  },
  {
   "cell_type": "code",
   "execution_count": 8,
   "metadata": {},
   "outputs": [],
   "source": [
    "writer = pd.ExcelWriter('allDat_ONET.xlsx')\n",
    "allDat_ONET.to_excel(writer,'Sheet1')\n",
    "#df2.to_excel(writer,'Sheet2')\n",
    "writer.save()"
   ]
  },
  {
   "cell_type": "code",
   "execution_count": null,
   "metadata": {},
   "outputs": [],
   "source": []
  }
 ],
 "metadata": {
  "kernelspec": {
   "display_name": "Python 3",
   "language": "python",
   "name": "python3"
  },
  "language_info": {
   "codemirror_mode": {
    "name": "ipython",
    "version": 3
   },
   "file_extension": ".py",
   "mimetype": "text/x-python",
   "name": "python",
   "nbconvert_exporter": "python",
   "pygments_lexer": "ipython3",
   "version": "3.7.4"
  }
 },
 "nbformat": 4,
 "nbformat_minor": 2
}
