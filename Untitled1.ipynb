{
 "cells": [
  {
   "cell_type": "code",
   "execution_count": 11,
   "metadata": {},
   "outputs": [],
   "source": [
    "import pandas as pd\n",
    "import pickle\n",
    "import numpy as np\n",
    "df=pd.read_csv(\"result2019.csv\")\n",
    "#corpus = df.loc[df['Projected Growth (2018-2028)'].str.contains(\"faster\",na=False,case=False) ]"
   ]
  },
  {
   "cell_type": "code",
   "execution_count": 13,
   "metadata": {},
   "outputs": [
    {
     "ename": "AttributeError",
     "evalue": "'list' object has no attribute 'shape'",
     "output_type": "error",
     "traceback": [
      "\u001b[1;31m---------------------------------------------------------------------------\u001b[0m",
      "\u001b[1;31mAttributeError\u001b[0m                            Traceback (most recent call last)",
      "\u001b[1;32m<ipython-input-13-9a281cb9c5e6>\u001b[0m in \u001b[0;36m<module>\u001b[1;34m\u001b[0m\n\u001b[1;32m----> 1\u001b[1;33m \u001b[0mcorpus\u001b[0m\u001b[1;33m.\u001b[0m\u001b[0mshape\u001b[0m\u001b[1;33m\u001b[0m\u001b[1;33m\u001b[0m\u001b[0m\n\u001b[0m",
      "\u001b[1;31mAttributeError\u001b[0m: 'list' object has no attribute 'shape'"
     ]
    }
   ],
   "source": [
    "corpus.shape\n"
   ]
  },
  {
   "cell_type": "code",
   "execution_count": 14,
   "metadata": {},
   "outputs": [],
   "source": [
    "\n",
    "from sklearn.feature_extraction.text import CountVectorizer\n",
    "from sklearn.metrics.pairwise import cosine_similarity\n",
    "\n",
    "corpus = df['Description']\n",
    "count_vect = CountVectorizer()\n",
    "\n",
    "X_train_counts = count_vect.fit_transform(corpus)\n",
    "\n",
    "#Dataframe with cosine similarties\n",
    "cos_df = pd.DataFrame(cosine_similarity(X_train_counts))\n",
    "\n",
    "#Dataframe for job advert and similarity with every other advert\n",
    "i, j = np.indices(cos_df.shape).reshape(2, -1)\n",
    "cos_values = cos_df.values.reshape(-1)\n",
    "cos_sim_df = pd.DataFrame({'i': i, 'j': j, 'sim':cos_values})\n",
    "\n",
    "#Any advert that has a cosine similarity above 0.98 and doesn't equal itself\n",
    "cos_rem = cos_sim_df[(cos_sim_df['sim']>0.98)&(i!=j)]\n",
    "\n",
    "#Method to remove duplicates but keep first instance. Trying to drop duplicates on i and j column wouldn't work as the numbers don't duplicate in those\n",
    "#columns. Setting another column that combines their values ensure that duplicates can be dropped.\n",
    "\n",
    "cos_rem['i*j'] = cos_rem['i'] * cos_rem['j']\n",
    "drop_rows = np.unique(cos_rem.drop_duplicates(subset=['i*j'], keep='first')['i'].values)\n",
    "\n",
    "#Drop from original dataframe\n",
    "df = df[~df.index.isin(drop_rows)]\n",
    "df = df.reset_index()\n",
    "df.drop(columns={'index'}, inplace=True)"
   ]
  },
  {
   "cell_type": "code",
   "execution_count": 15,
   "metadata": {},
   "outputs": [
    {
     "name": "stderr",
     "output_type": "stream",
     "text": [
      "[nltk_data] Downloading package stopwords to\n",
      "[nltk_data]     C:\\Users\\Admin\\AppData\\Roaming\\nltk_data...\n",
      "[nltk_data]   Package stopwords is already up-to-date!\n",
      "[nltk_data] Downloading package wordnet to\n",
      "[nltk_data]     C:\\Users\\Admin\\AppData\\Roaming\\nltk_data...\n",
      "[nltk_data]   Package wordnet is already up-to-date!\n"
     ]
    }
   ],
   "source": [
    "corpus = df['Description']\n",
    "import nltk \n",
    "import re\n",
    "nltk.download('stopwords')\n",
    "nltk.download('wordnet')\n",
    "\n",
    "wpt = nltk.WordPunctTokenizer()\n",
    "stop_words = nltk.corpus.stopwords.words('english')\n",
    "lemmatizer = nltk.WordNetLemmatizer()\n",
    "\n",
    "#Function to pre-process the text information\n",
    "\n",
    "def normalize_document(doc):\n",
    "    \n",
    "    # lower case and remove special characters\\whitespaces\n",
    "    doc = re.sub(r'[^a-zA-Z\\s]', '', doc, re.I|re.A) #re.I (ignore case), re.A (ASCII-only matching)\n",
    "    doc = doc.lower()\n",
    "    doc = doc.strip()\n",
    "    \n",
    "    # tokenize document\n",
    "    tokens = wpt.tokenize(doc)\n",
    "    \n",
    "    # filter stopwords out of document\n",
    "    filtered_tokens = [token for token in tokens if token not in stop_words]\n",
    "    \n",
    "    # Lemmatise document from filtered tokens\n",
    "    lem_text = [lemmatizer.lemmatize(i) for i in filtered_tokens]\n",
    "    \n",
    "    # Remove words that are only one character.\n",
    "    lem_text = [token for token in lem_text if len(token) > 1]\n",
    "    \n",
    "    # Remove numbers, but not words that contain numbers.\n",
    "    lem_text = [token for token in lem_text if not token.isnumeric()]\n",
    "    \n",
    "    doc = ' '.join(lem_text)\n",
    "    return doc\n",
    "\n",
    "normalize_corpus = np.vectorize(normalize_document)\n",
    "\n",
    "norm_corpus = normalize_corpus(corpus)"
   ]
  },
  {
   "cell_type": "code",
   "execution_count": 16,
   "metadata": {},
   "outputs": [
    {
     "name": "stderr",
     "output_type": "stream",
     "text": [
      "[nltk_data] Downloading package punkt to\n",
      "[nltk_data]     C:\\Users\\Admin\\AppData\\Roaming\\nltk_data...\n",
      "[nltk_data]   Package punkt is already up-to-date!\n"
     ]
    }
   ],
   "source": [
    "nltk.download('punkt')\n",
    "from nltk.tokenize import word_tokenize\n",
    "import gensim.corpora as corpora\n",
    "\n",
    "#Tokenise the corpus\n",
    "tokenized_corp = [word_tokenize(i) for i in norm_corpus]\n",
    "\n",
    "# Create Dictionary\n",
    "id2word = corpora.Dictionary(tokenized_corp)\n",
    "\n",
    "#Remove words that don't feature 20 times and those that feature in over 50% of documents\n",
    "id2word.filter_extremes(no_below=20, no_above=0.5)\n",
    "\n",
    "texts = tokenized_corp\n",
    "\n",
    "# Term Document Frequency\n",
    "corpus = [id2word.doc2bow(text) for text in texts]"
   ]
  },
  {
   "cell_type": "code",
   "execution_count": 17,
   "metadata": {},
   "outputs": [],
   "source": [
    "def compute_coherence_values(corpus, dictionary, texts, end, start=2, step=3):\n",
    "    \"\"\"\n",
    "    Compute c_v coherence for various number of topics\n",
    "\n",
    "    Parameters:\n",
    "    ----------\n",
    "    dictionary : Gensim dictionary\n",
    "    corpus : Gensim corpus\n",
    "    texts : List of input texts\n",
    "    limit : Max num of topics\n",
    "\n",
    "    Returns:\n",
    "    -------\n",
    "    model_list : List of LDA topic models\n",
    "    coherence_values : Coherence values corresponding to the LDA model with respective number of topics\n",
    "    \"\"\"\n",
    "    coherence_values = []\n",
    "    model_list = []\n",
    "    \n",
    "    for num_topics in range(start, end, step):\n",
    "    \n",
    "        # Build LDA model\n",
    "        lda_model = gensim.models.LdaMulticore(corpus=corpus,\n",
    "                                               id2word=dictionary,\n",
    "                                               num_topics=num_topics, \n",
    "                                               random_state=123,\n",
    "                                               chunksize=100,\n",
    "                                               passes=500, #number of passes was investigated. At 500 the coherence score will remain relatively similar\n",
    "                                               #with any further increase. As the document is quite small this number of passes makes sense.\n",
    "                                               per_word_topics=True)\n",
    "        model_list.append(lda_model)\n",
    "        \n",
    "        # Compute Coherence Score\n",
    "        coherence_model_lda = CoherenceModel(model=lda_model, texts=texts, dictionary=dictionary, coherence='c_v')\n",
    "        coherence_values.append(coherence_model_lda.get_coherence())\n",
    "\n",
    "    return model_list, coherence_values"
   ]
  },
  {
   "cell_type": "code",
   "execution_count": 18,
   "metadata": {},
   "outputs": [],
   "source": [
    "import gensim\n",
    "from gensim.test.utils import common_corpus, common_dictionary\n",
    "from gensim.models.ldamodel import LdaModel\n",
    "from gensim.models.coherencemodel import CoherenceModel\n",
    "model_list, coherence_values = compute_coherence_values(corpus=corpus, dictionary = id2word, texts=texts, start=8, end=16, step=1)"
   ]
  },
  {
   "cell_type": "code",
   "execution_count": 20,
   "metadata": {},
   "outputs": [
    {
     "data": {
      "image/png": "[encoded data removed]",
      "text/plain": [
       "<Figure size 576x576 with 1 Axes>"
      ]
     },
     "metadata": {
      "needs_background": "light"
     },
     "output_type": "display_data"
    }
   ],
   "source": [
    "# Show graph\n",
    "%matplotlib inline\n",
    "from matplotlib import pyplot as plt\n",
    "end=16; start=8; step=1;\n",
    "x = range(start, end, step)\n",
    "ax = plt.subplots(figsize=(8,8))\n",
    "plt.plot(x, coherence_values)\n",
    "plt.xlabel(\"Number of Topics\", fontsize=14)\n",
    "plt.ylabel(\"Coherence score\", fontsize=14)\n",
    "plt.title('Coherence Scores for Topic Size', fontsize=18)\n",
    "plt.show();"
   ]
  },
  {
   "cell_type": "code",
   "execution_count": 9,
   "metadata": {},
   "outputs": [],
   "source": [
    "lda_model = gensim.models.LdaMulticore(corpus=corpus,\n",
    "                                       id2word=id2word,\n",
    "                                       num_topics=8, \n",
    "                                       random_state=123,\n",
    "                                       chunksize=100,\n",
    "                                       passes=500,\n",
    "                                       per_word_topics=True)"
   ]
  },
  {
   "cell_type": "code",
   "execution_count": 10,
   "metadata": {},
   "outputs": [
    {
     "name": "stderr",
     "output_type": "stream",
     "text": [
      "C:\\Users\\Admin\\Anaconda3\\lib\\site-packages\\pyLDAvis\\_prepare.py:257: FutureWarning: Sorting because non-concatenation axis is not aligned. A future version\n",
      "of pandas will change to not sort by default.\n",
      "\n",
      "To accept the future behavior, pass 'sort=False'.\n",
      "\n",
      "To retain the current behavior and silence the warning, pass 'sort=True'.\n",
      "\n",
      "  return pd.concat([default_term_info] + list(topic_dfs))\n"
     ]
    },
    {
     "data": {
      "text/html": [
       "\n",
       "<link rel=\"stylesheet\" type=\"text/css\" href=\"https://cdn.rawgit.com/bmabey/pyLDAvis/files/ldavis.v1.0.0.css\">\n",
       "\n",
       "\n",
       "<div id=\"ldavis_el970421669087757527387634182\"></div>\n",
       "<script type=\"text/javascript\">\n",
       "\n",
       "var ldavis_el970421669087757527387634182_data = {\"mdsDat\": {\"x\": [-0.18416667190366443, 0.2613212406662898, -0.2597171322521236, -0.048128023737905555, 0.18836568322915176, -0.11464868704024812, 0.2724471780186192, -0.11547358698011943], \"y\": [0.05356800390215723, 0.016716242272050496, 0.021837202731245196, 0.02300597672322188, -0.33172046827321383, 0.18406493237090515, 0.256803867506676, -0.2242757572330425], \"topics\": [1, 2, 3, 4, 5, 6, 7, 8], \"cluster\": [1, 1, 1, 1, 1, 1, 1, 1], \"Freq\": [9.452178001403809, 13.258173942565918, 14.617835998535156, 8.814919471740723, 6.432721138000488, 15.183501243591309, 10.822345733642578, 21.418319702148438]}, \"tinfo\": {\"Category\": [\"Default\", \"Default\", \"Default\", \"Default\", \"Default\", \"Default\", \"Default\", \"Default\", \"Default\", \"Default\", \"Default\", \"Default\", \"Default\", \"Default\", \"Default\", \"Default\", \"Topic1\", \"Topic1\", \"Topic1\", \"Topic1\", \"Topic1\", \"Topic1\", \"Topic1\", \"Topic1\", \"Topic1\", \"Topic1\", \"Topic1\", \"Topic1\", \"Topic1\", \"Topic1\", \"Topic1\", \"Topic1\", \"Topic2\", \"Topic2\", \"Topic2\", \"Topic2\", \"Topic2\", \"Topic2\", \"Topic2\", \"Topic2\", \"Topic2\", \"Topic2\", \"Topic2\", \"Topic2\", \"Topic2\", \"Topic2\", \"Topic2\", \"Topic2\", \"Topic3\", \"Topic3\", \"Topic3\", \"Topic3\", \"Topic3\", \"Topic3\", \"Topic3\", \"Topic3\", \"Topic3\", \"Topic3\", \"Topic3\", \"Topic3\", \"Topic3\", \"Topic3\", \"Topic3\", \"Topic3\", \"Topic4\", \"Topic4\", \"Topic4\", \"Topic4\", \"Topic4\", \"Topic4\", \"Topic4\", \"Topic4\", \"Topic4\", \"Topic4\", \"Topic4\", \"Topic4\", \"Topic4\", \"Topic4\", \"Topic4\", \"Topic4\", \"Topic5\", \"Topic5\", \"Topic5\", \"Topic5\", \"Topic5\", \"Topic5\", \"Topic5\", \"Topic5\", \"Topic5\", \"Topic5\", \"Topic5\", \"Topic5\", \"Topic5\", \"Topic5\", \"Topic5\", \"Topic5\", \"Topic6\", \"Topic6\", \"Topic6\", \"Topic6\", \"Topic6\", \"Topic6\", \"Topic6\", \"Topic6\", \"Topic6\", \"Topic6\", \"Topic6\", \"Topic6\", \"Topic6\", \"Topic6\", \"Topic6\", \"Topic6\", \"Topic7\", \"Topic7\", \"Topic7\", \"Topic7\", \"Topic7\", \"Topic7\", \"Topic7\", \"Topic7\", \"Topic7\", \"Topic7\", \"Topic7\", \"Topic7\", \"Topic7\", \"Topic7\", \"Topic7\", \"Topic7\", \"Topic8\", \"Topic8\", \"Topic8\", \"Topic8\", \"Topic8\", \"Topic8\", \"Topic8\", \"Topic8\", \"Topic8\", \"Topic8\", \"Topic8\", \"Topic8\", \"Topic8\", \"Topic8\", \"Topic8\", \"Topic8\"], \"Freq\": [60.0, 34.0, 36.0, 47.0, 108.0, 25.0, 29.0, 39.0, 30.0, 32.0, 27.0, 62.0, 33.0, 23.0, 22.0, 26.0, 24.967233657836914, 31.676025390625, 2.4243321418762207, 0.1242288127541542, 0.12426352500915527, 0.12422340363264084, 0.1242235004901886, 0.12426473945379257, 0.12427274137735367, 0.12436084449291229, 0.12423122674226761, 0.12424169480800629, 0.12425138801336288, 0.12423364073038101, 0.12427715957164764, 0.12432686984539032, 28.548669815063477, 29.198171615600586, 25.830036163330078, 0.11846836656332016, 0.11846648901700974, 0.11848263442516327, 0.1184859573841095, 0.11847126483917236, 0.1185293048620224, 0.11848641186952591, 0.11848292499780655, 0.11846479028463364, 0.11850959062576294, 0.11852508783340454, 0.11853476613759995, 0.11868960410356522, 21.574241638183594, 31.706581115722656, 25.41054344177246, 13.75525951385498, 0.11668738722801208, 0.11664857715368271, 0.11664634197950363, 0.11666971445083618, 0.11661878973245621, 0.11662212014198303, 0.11662698537111282, 0.11663932353258133, 0.11668062955141068, 0.11669058352708817, 0.11667713522911072, 0.11667610704898834, 33.407386779785156, 4.973418712615967, 6.656001091003418, 2.502542018890381, 7.526813983917236, 0.13863591849803925, 0.1387144923210144, 0.13876119256019592, 0.13863767683506012, 0.13867402076721191, 0.13867129385471344, 0.1386503279209137, 0.13867056369781494, 0.13881352543830872, 0.1386864334344864, 0.13870954513549805, 39.08436584472656, 0.14750361442565918, 0.14758221805095673, 0.14750714600086212, 0.14757893979549408, 0.1475791186094284, 0.14755219221115112, 0.14762108027935028, 0.14757345616817474, 0.14753830432891846, 0.1475808024406433, 0.14752282202243805, 0.14759096503257751, 0.14758893847465515, 0.14756976068019867, 0.14781302213668823, 29.975425720214844, 27.086318969726562, 13.966565132141113, 6.996005535125732, 18.128787994384766, 0.12043509632349014, 0.12049034982919693, 0.12040775269269943, 0.12042268365621567, 0.12043114006519318, 0.12054232507944107, 0.12041305005550385, 0.12043124437332153, 0.12047344446182251, 0.12050189077854156, 0.12042033672332764, 35.60625076293945, 20.691679000854492, 11.57909870147705, 0.12323246896266937, 0.12321788817644119, 0.123263418674469, 0.12321015447378159, 0.12325619906187057, 0.12321952730417252, 0.12331640720367432, 0.12324248254299164, 0.12330063432455063, 0.12325715273618698, 0.12325557321310043, 0.12331291288137436, 0.12334416061639786, 46.32265853881836, 41.24370574951172, 20.4495792388916, 25.784427642822266, 2.433938980102539, 0.11560867726802826, 0.11558558791875839, 0.11558104306459427, 0.11553888767957687, 0.11555354297161102, 0.11555426567792892, 0.11556562036275864, 0.11558046191930771, 0.11556441336870193, 0.11557726562023163, 0.11558622121810913], \"Term\": [\"provide\", \"treatment\", \"activity\", \"care\", \"may\", \"perform\", \"diagnose\", \"assist\", \"individual\", \"treat\", \"service\", \"patient\", \"disease\", \"plan\", \"record\", \"program\", \"perform\", \"may\", \"treat\", \"record\", \"plan\", \"program\", \"service\", \"diagnose\", \"individual\", \"disease\", \"treatment\", \"activity\", \"assist\", \"care\", \"provide\", \"patient\", \"diagnose\", \"treat\", \"disease\", \"record\", \"plan\", \"perform\", \"program\", \"service\", \"individual\", \"treatment\", \"activity\", \"assist\", \"care\", \"provide\", \"patient\", \"may\", \"record\", \"assist\", \"may\", \"patient\", \"plan\", \"perform\", \"program\", \"service\", \"diagnose\", \"individual\", \"treat\", \"disease\", \"treatment\", \"activity\", \"care\", \"provide\", \"treatment\", \"disease\", \"patient\", \"plan\", \"may\", \"record\", \"perform\", \"program\", \"service\", \"diagnose\", \"individual\", \"treat\", \"activity\", \"assist\", \"care\", \"provide\", \"provide\", \"record\", \"plan\", \"perform\", \"program\", \"service\", \"diagnose\", \"individual\", \"treat\", \"disease\", \"treatment\", \"activity\", \"assist\", \"care\", \"patient\", \"may\", \"individual\", \"service\", \"program\", \"assist\", \"may\", \"record\", \"plan\", \"perform\", \"diagnose\", \"treat\", \"disease\", \"treatment\", \"activity\", \"care\", \"provide\", \"patient\", \"activity\", \"plan\", \"program\", \"record\", \"perform\", \"service\", \"diagnose\", \"individual\", \"treat\", \"disease\", \"treatment\", \"assist\", \"care\", \"provide\", \"patient\", \"may\", \"care\", \"patient\", \"provide\", \"may\", \"disease\", \"record\", \"plan\", \"perform\", \"program\", \"service\", \"diagnose\", \"individual\", \"treat\", \"treatment\", \"activity\", \"assist\"], \"Total\": [60.0, 34.0, 36.0, 47.0, 108.0, 25.0, 29.0, 39.0, 30.0, 32.0, 27.0, 62.0, 33.0, 23.0, 22.0, 26.0, 25.84779167175293, 108.91645812988281, 32.38458251953125, 22.462352752685547, 23.93729591369629, 26.306900024414062, 27.970718383789062, 29.434968948364258, 30.85996437072754, 33.86979293823242, 34.27358627319336, 36.48786926269531, 39.47059631347656, 47.21208572387695, 60.27589416503906, 62.28913116455078, 29.434968948364258, 32.38458251953125, 33.86979293823242, 22.462352752685547, 23.93729591369629, 25.84779167175293, 26.306900024414062, 27.970718383789062, 30.85996437072754, 34.27358627319336, 36.48786926269531, 39.47059631347656, 47.21208572387695, 60.27589416503906, 62.28913116455078, 108.91645812988281, 22.462352752685547, 39.47059631347656, 108.91645812988281, 62.28913116455078, 23.93729591369629, 25.84779167175293, 26.306900024414062, 27.970718383789062, 29.434968948364258, 30.85996437072754, 32.38458251953125, 33.86979293823242, 34.27358627319336, 36.48786926269531, 47.21208572387695, 60.27589416503906, 34.27358627319336, 33.86979293823242, 62.28913116455078, 23.93729591369629, 108.91645812988281, 22.462352752685547, 25.84779167175293, 26.306900024414062, 27.970718383789062, 29.434968948364258, 30.85996437072754, 32.38458251953125, 36.48786926269531, 39.47059631347656, 47.21208572387695, 60.27589416503906, 60.27589416503906, 22.462352752685547, 23.93729591369629, 25.84779167175293, 26.306900024414062, 27.970718383789062, 29.434968948364258, 30.85996437072754, 32.38458251953125, 33.86979293823242, 34.27358627319336, 36.48786926269531, 39.47059631347656, 47.21208572387695, 62.28913116455078, 108.91645812988281, 30.85996437072754, 27.970718383789062, 26.306900024414062, 39.47059631347656, 108.91645812988281, 22.462352752685547, 23.93729591369629, 25.84779167175293, 29.434968948364258, 32.38458251953125, 33.86979293823242, 34.27358627319336, 36.48786926269531, 47.21208572387695, 60.27589416503906, 62.28913116455078, 36.48786926269531, 23.93729591369629, 26.306900024414062, 22.462352752685547, 25.84779167175293, 27.970718383789062, 29.434968948364258, 30.85996437072754, 32.38458251953125, 33.86979293823242, 34.27358627319336, 39.47059631347656, 47.21208572387695, 60.27589416503906, 62.28913116455078, 108.91645812988281, 47.21208572387695, 62.28913116455078, 60.27589416503906, 108.91645812988281, 33.86979293823242, 22.462352752685547, 23.93729591369629, 25.84779167175293, 26.306900024414062, 27.970718383789062, 29.434968948364258, 30.85996437072754, 32.38458251953125, 34.27358627319336, 36.48786926269531, 39.47059631347656], \"loglift\": [16.0, 15.0, 14.0, 13.0, 12.0, 11.0, 10.0, 9.0, 8.0, 7.0, 6.0, 5.0, 4.0, 3.0, 2.0, 1.0, 2.3243000507354736, 1.123900055885315, -0.23319999873638153, -2.8385000228881836, -2.901900053024292, -2.9965999126434326, -3.0578999519348145, -3.108599901199341, -3.1558001041412354, -3.248199939727783, -3.2611000537872314, -3.3236000537872314, -3.402100086212158, -3.5813000202178955, -3.825200080871582, -3.8577001094818115, 1.9900000095367432, 1.9170000553131104, 1.7496000528335571, -3.224400043487549, -3.2880001068115234, -3.3647000789642334, -3.382200002670288, -3.443700075149536, -3.5415000915527344, -3.6468000411987305, -3.709399938583374, -3.788100004196167, -3.966900110244751, -4.210999965667725, -4.243800163269043, -4.801300048828125, 1.882599949836731, 1.7038999795913696, 0.4675000011920929, 0.41260001063346863, -3.4007999897003174, -3.4779000282287598, -3.495500087738037, -3.5566000938415527, -3.608099937438965, -3.6552999019622803, -3.7035000324249268, -3.748300075531006, -3.7597999572753906, -3.8222999572753906, -4.080100059509277, -4.324399948120117, 2.40310001373291, 0.5102999806404114, 0.19249999523162842, 0.17059999704360962, -0.2433999925851822, -2.6589999198913574, -2.798799991607666, -2.8160998821258545, -2.8782999515533447, -2.9291000366210938, -2.9763998985290527, -3.0248000621795654, -3.143899917602539, -3.2214999198913574, -3.4014999866485596, -3.6456000804901123, 2.3106000423431396, -2.2820000648498535, -2.3450000286102295, -2.422300100326538, -2.439500093460083, -2.5007998943328857, -2.552000045776367, -2.59879994392395, -2.6473000049591064, -2.6923999786376953, -2.7039999961853027, -2.7669999599456787, -2.845099925994873, -3.024199962615967, -3.301500082015991, -3.858599901199341, 1.8559000492095947, 1.8528000116348267, 1.2517999410629272, 0.15469999611377716, 0.09189999848604202, -3.3434998989105225, -3.4066998958587646, -3.484100103378296, -3.614000082015991, -3.709399938583374, -3.7532999515533447, -3.766200065612793, -3.828700065612793, -4.085999965667725, -4.330100059509277, -4.36359977722168, 2.1991000175476074, 2.077899932861328, 1.402899980545044, -2.9820001125335693, -3.122499942779541, -3.2009999752044678, -3.252500057220459, -3.2994000911712646, -3.347899913787842, -3.3919999599456787, -3.404400110244751, -3.545099973678589, -3.724600076675415, -3.968899965286255, -4.001299858093262, -4.559800148010254, 1.5219000577926636, 1.128600001335144, 0.46000000834465027, 0.10010000318288803, -1.0921000242233276, -3.7284998893737793, -3.79229998588562, -3.8691000938415527, -3.8870999813079834, -3.9482998847961426, -3.999300003051758, -4.046500205993652, -4.0945000648498535, -4.151400089263916, -4.213900089263916, -4.292399883270264], \"logprob\": [16.0, 15.0, 14.0, 13.0, 12.0, 11.0, 10.0, 9.0, 8.0, 7.0, 6.0, 5.0, 4.0, 3.0, 2.0, 1.0, -0.8881000280380249, -0.6500999927520752, -3.220099925994873, -6.191299915313721, -6.190999984741211, -6.191299915313721, -6.191299915313721, -6.190999984741211, -6.190899848937988, -6.190199851989746, -6.191299915313721, -6.191199779510498, -6.191100120544434, -6.191299915313721, -6.190899848937988, -6.190499782562256, -1.0923999547958374, -1.0699000358581543, -1.1924999952316284, -6.577099800109863, -6.577199935913086, -6.577000141143799, -6.577000141143799, -6.577099800109863, -6.576600074768066, -6.577000141143799, -6.577000141143799, -6.577199935913086, -6.5767998695373535, -6.576700210571289, -6.576600074768066, -6.575300216674805, -1.4701999425888062, -1.0851000547409058, -1.30649995803833, -1.920199990272522, -6.689899921417236, -6.690199851989746, -6.690299987792969, -6.690100193023682, -6.690499782562256, -6.690499782562256, -6.690400123596191, -6.690299987792969, -6.690000057220459, -6.689899921417236, -6.690000057220459, -6.690000057220459, -0.5271000266075134, -2.43179988861084, -2.1403000354766846, -3.1185998916625977, -2.017400026321411, -6.0117998123168945, -6.011199951171875, -6.010900020599365, -6.0117998123168945, -6.011499881744385, -6.011499881744385, -6.01170015335083, -6.011499881744385, -6.010499954223633, -6.01140022277832, -6.011199951171875, -0.05510000139474869, -5.634699821472168, -5.634200096130371, -5.634699821472168, -5.634200096130371, -5.634200096130371, -5.634399890899658, -5.633900165557861, -5.634200096130371, -5.634500026702881, -5.634200096130371, -5.6346001625061035, -5.634099960327148, -5.634099960327148, -5.634300231933594, -5.632599830627441, -1.1792000532150269, -1.2805999517440796, -1.9429999589920044, -2.6342999935150146, -1.6821000576019287, -6.696300029754639, -6.695799827575684, -6.696499824523926, -6.696400165557861, -6.696300029754639, -6.695400238037109, -6.696499824523926, -6.696300029754639, -6.696000099182129, -6.695700168609619, -6.696400165557861, -0.6685000061988831, -1.211300015449524, -1.7918000221252441, -6.334700107574463, -6.334799766540527, -6.334499835968018, -6.33489990234375, -6.334499835968018, -6.334799766540527, -6.334000110626221, -6.33459997177124, -6.334199905395508, -6.334499835968018, -6.334499835968018, -6.334099769592285, -6.333799839019775, -1.0880000591278076, -1.204200029373169, -1.9056999683380127, -1.6739000082015991, -4.034200191497803, -7.081200122833252, -7.081399917602539, -7.081399917602539, -7.0817999839782715, -7.081699848175049, -7.081699848175049, -7.081600189208984, -7.081500053405762, -7.081600189208984, -7.081500053405762, -7.081399917602539]}, \"token.table\": {\"Topic\": [7, 3, 6, 8, 2, 2, 4, 8, 6, 1, 3, 4, 6, 8, 3, 4, 8, 1, 4, 7, 6, 7, 5, 8, 3, 6, 1, 2, 4], \"Freq\": [0.9866292476654053, 0.8107300996780396, 0.17734721302986145, 0.9743267893791199, 0.9852226972579956, 0.7676456570625305, 0.1476241648197174, 0.05904966592788696, 0.9721333384513855, 0.2938031554222107, 0.22953371703624725, 0.07345078885555267, 0.1652642786502838, 0.2387150675058365, 0.2247583121061325, 0.11237915605306625, 0.6582207679748535, 0.9672006368637085, 0.1253274381160736, 0.8772920966148376, 0.5321797728538513, 0.45615407824516296, 0.6470248103141785, 0.33180761337280273, 0.97941654920578, 0.9652951955795288, 0.061757780611515045, 0.8954878449440002, 0.9628406167030334], \"Term\": [\"activity\", \"assist\", \"assist\", \"care\", \"diagnose\", \"disease\", \"disease\", \"disease\", \"individual\", \"may\", \"may\", \"may\", \"may\", \"may\", \"patient\", \"patient\", \"patient\", \"perform\", \"plan\", \"plan\", \"program\", \"program\", \"provide\", \"provide\", \"record\", \"service\", \"treat\", \"treat\", \"treatment\"]}, \"R\": 16, \"lambda.step\": 0.01, \"plot.opts\": {\"xlab\": \"PC1\", \"ylab\": \"PC2\"}, \"topic.order\": [1, 2, 3, 4, 5, 6, 7, 8]};\n",
       "\n",
       "function LDAvis_load_lib(url, callback){\n",
       "  var s = document.createElement('script');\n",
       "  s.src = url;\n",
       "  s.async = true;\n",
       "  s.onreadystatechange = s.onload = callback;\n",
       "  s.onerror = function(){console.warn(\"failed to load library \" + url);};\n",
       "  document.getElementsByTagName(\"head\")[0].appendChild(s);\n",
       "}\n",
       "\n",
       "if(typeof(LDAvis) !== \"undefined\"){\n",
       "   // already loaded: just create the visualization\n",
       "   !function(LDAvis){\n",
       "       new LDAvis(\"#\" + \"ldavis_el970421669087757527387634182\", ldavis_el970421669087757527387634182_data);\n",
       "   }(LDAvis);\n",
       "}else if(typeof define === \"function\" && define.amd){\n",
       "   // require.js is available: use it to load d3/LDAvis\n",
       "   require.config({paths: {d3: \"https://cdnjs.cloudflare.com/ajax/libs/d3/3.5.5/d3.min\"}});\n",
       "   require([\"d3\"], function(d3){\n",
       "      window.d3 = d3;\n",
       "      LDAvis_load_lib(\"https://cdn.rawgit.com/bmabey/pyLDAvis/files/ldavis.v1.0.0.js\", function(){\n",
       "        new LDAvis(\"#\" + \"ldavis_el970421669087757527387634182\", ldavis_el970421669087757527387634182_data);\n",
       "      });\n",
       "    });\n",
       "}else{\n",
       "    // require.js not available: dynamically load d3 & LDAvis\n",
       "    LDAvis_load_lib(\"https://cdnjs.cloudflare.com/ajax/libs/d3/3.5.5/d3.min.js\", function(){\n",
       "         LDAvis_load_lib(\"https://cdn.rawgit.com/bmabey/pyLDAvis/files/ldavis.v1.0.0.js\", function(){\n",
       "                 new LDAvis(\"#\" + \"ldavis_el970421669087757527387634182\", ldavis_el970421669087757527387634182_data);\n",
       "            })\n",
       "         });\n",
       "}\n",
       "</script>"
      ],
      "text/plain": [
       "<IPython.core.display.HTML object>"
      ]
     },
     "execution_count": 10,
     "metadata": {},
     "output_type": "execute_result"
    }
   ],
   "source": [
    "import pyLDAvis.gensim\n",
    "lda_display = pyLDAvis.gensim.prepare(lda_model, corpus, id2word, sort_topics=False)\n",
    "pyLDAvis.display(lda_display)"
   ]
  },
  {
   "cell_type": "code",
   "execution_count": null,
   "metadata": {},
   "outputs": [],
   "source": []
  }
 ],
 "metadata": {
  "kernelspec": {
   "display_name": "Python 3",
   "language": "python",
   "name": "python3"
  },
  "language_info": {
   "codemirror_mode": {
    "name": "ipython",
    "version": 3
   },
   "file_extension": ".py",
   "mimetype": "text/x-python",
   "name": "python",
   "nbconvert_exporter": "python",
   "pygments_lexer": "ipython3",
   "version": "3.7.4"
  }
 },
 "nbformat": 4,
 "nbformat_minor": 2
}
